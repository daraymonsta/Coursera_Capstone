{
 "cells": [
  {
   "cell_type": "markdown",
   "id": "turkish-causing",
   "metadata": {},
   "source": [
    "# Finding the best neighbourhood in Brisbane for families with children"
   ]
  },
  {
   "cell_type": "markdown",
   "id": "qualified-trustee",
   "metadata": {},
   "source": [
    "**About this notebook**"
   ]
  },
  {
   "cell_type": "markdown",
   "id": "annual-thomson",
   "metadata": {},
   "source": [
    "This notebook was made for the IBM Capstone Project: The Battle of Neighborhoods (Week 1)"
   ]
  },
  {
   "cell_type": "markdown",
   "id": "textile-motor",
   "metadata": {},
   "source": [
    "## Introduction/Business Problem\n",
    "**Description of the problem and a discussion of the background. (15 marks)**\n",
    "\n",
    "Families with children often move cities or even countries.  It is often difficult to know which suburb or neighbourhood to move to within a city.  What is the crime rate in that neighbourhood?  What are the schools like?  What sort of venues are most common there?  What is the best suburb for my family?\n",
    "\n",
    "The assumed problem is that a family wants to re-locate to Brisbane, Australia.  They want a neighbourhood with common venues suitable for children, like parks and soccer fields.  If possible, they want to be in an area where their children can go to a state (public/free) school which achieves better than average results.  They would like the lowest crime rate possible.  Which neighbhourhood should they choose?\n",
    "\n",
    "## Data\n",
    "**A description of the data and how it will be used to solve the problem. (15 marks)**\n",
    "\n",
    "**1. Postcode data**\n",
    "Data will be needed regarding all the postcodes in Brisbane, with their suburbs (neighbhourhoods) and latitude and longitude. Postcodes cover more than one suburb/neighbhourhood, so neighbhourhoods will need to be concatenated under each postcode.  The postcodes will need to be filtered to only include ones belonging to Brisbane.  Eventually, this cleaned-up dataset will be needed to place each neighbourhoods for each postcode on a map and to see location of the clusters visually.\n",
    "\n",
    "Dataset source: https://www.matthewproctor.com/australian_postcodes\n",
    "\n",
    "This website provides a CSV file with Australian suburbs, their postcode, and latitude/longitude.\n",
    "\n",
    "**2. Crime data**\n",
    "Data will be needed regarding crimes committed in a recent period by postcode.\n",
    "\n",
    "Dataset source: Queensland Police Service — Online Crime Map at https://qps-ocm.s3-ap-southeast-2.amazonaws.com/index.html\n",
    "\n",
    "The website only allows for a Excel file to be downloaded on 10 postcodes at a time for a recent 2 year period.  Therefore, each file needs to be processed, grouped, and appended to one dataframe.  As each type of crime is listed by the date and postcode, the data will need to be grouped by postcode and the number of crimes for each postcode counted.\n",
    "\n",
    "The number of crimes ('Acts of Crime') for each postcode will need to be converted into categorical data (e.g. Moderately High) and one-hot encoded in preparation for the k-means algorithm.\n",
    "\n",
    "**3. School data**\n",
    "Data will be needed regarding the postcode a school is located in.\n",
    "\n",
    "Dataset source: Queensland Government - Open Data Portal at https://www.data.qld.gov.au/\n",
    "\n",
    "This datafile lists details regarding every school in Queensland. This will be filtered to include only relevant details for state schools in Brisbane.\n",
    "\n",
    "**4. School performance data**\n",
    "Data will be needed about the performance of each school in Brisbane.\n",
    "\n",
    "Dataset source: Queensland government website QCAA provides the 2019 NAPLAN Outcomes on all Queensland Schools as a PDF file.\n",
    "\n",
    "A dataset needs to be extracted from the PDF file. Different methods were tried to extract the data.  A Python library (Tabula) was used to directly access the PDF and convert it into tables, but for some strange reason it would lose the data on the first school at the top of every page.  Therefore, other methods were tried: the PDF was converted to an Excel file, CSV file, but these both had severe formatting problems.  Finally, the PDF was converted to a HTML file.  The HTML file was converted into rows and columns of data, but it still required a complicated process to turn it into a useful DataFrame.  For example, test results in different year groups and across different subjects need to be combined and averaged for each school so that a single test score can be used to 'rate' the performance of each school later.\n",
    "\n",
    "This DataFrame includes the results of the 2019 standard testing.  The DataFrame is filtered for only 'localities' (i.e. Suburbs) in the Brisbane area.  Since it only uses the school name as an indentifer for each school, a join is required on this field with the school dataset (3) above to match schools and get the postcode and school type into one combined dataset.  Once this is done, the DataFrame can be filtered for only brisbane postcodes and schools that state owned.\n",
    "\n",
    "As the average test score is numerical data, this field needs converting into categorical data (e.g. 'Top Rated' or 'Significantly Below Average') and one-hot encoded in preparation for the k-means algorithm.\n",
    "\n",
    "**5. Foursquare venue data**\n",
    "Data will be needed about the most common venues related to each Brisbane postcode/neighbhourhood.\n",
    "\n",
    "Dataset source: Foursquare API\n",
    "\n",
    "Data about each venue for each postcode will be grouped by postcode/neighbourhood and one-hot encoded in preparation for the k-means algorithm.\n",
    "\n",
    "**Combining the datasets**\n",
    "\n",
    "Datasets 2, 3, 4 and 5 (above) will need to be integrated into one dataset to perform the k-means algorithm.  Combinations of these datasets will be needed for analysis of each cluster."
   ]
  },
  {
   "cell_type": "code",
   "execution_count": null,
   "id": "dress-instrumentation",
   "metadata": {},
   "outputs": [],
   "source": []
  }
 ],
 "metadata": {
  "kernelspec": {
   "display_name": "Python 3",
   "language": "python",
   "name": "python3"
  },
  "language_info": {
   "codemirror_mode": {
    "name": "ipython",
    "version": 3
   },
   "file_extension": ".py",
   "mimetype": "text/x-python",
   "name": "python",
   "nbconvert_exporter": "python",
   "pygments_lexer": "ipython3",
   "version": "3.8.5"
  }
 },
 "nbformat": 4,
 "nbformat_minor": 5
}
